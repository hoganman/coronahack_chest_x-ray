{
 "cells": [
  {
   "cell_type": "markdown",
   "id": "43df1281",
   "metadata": {},
   "source": [
    "Load Tensorflow"
   ]
  },
  {
   "cell_type": "code",
   "execution_count": 1,
   "id": "aa5a0514",
   "metadata": {},
   "outputs": [
    {
     "name": "stdout",
     "output_type": "stream",
     "text": [
      "TensorFlow version: 2.6.0\n"
     ]
    }
   ],
   "source": [
    "%matplotlib inline\n",
    "from matplotlib import pyplot as plt\n",
    "import matplotlib.image as mpimg\n",
    "import pandas as pd\n",
    "import numpy as np\n",
    "import random\n",
    "import os\n",
    "from glob import glob\n",
    "from PIL import Image\n",
    "import pathlib\n",
    "\n",
    "import tensorflow as tf\n",
    "print(\"TensorFlow version:\", tf.__version__)\n",
    "\n",
    "from tensorflow.keras.layers import Dense, Flatten, Conv2D\n",
    "from tensorflow.keras import utils\n",
    "from tensorflow.keras import Model\n",
    "\n",
    "batch_size = 32"
   ]
  },
  {
   "cell_type": "markdown",
   "id": "56687f6f",
   "metadata": {},
   "source": [
    "Load helper functions and preview the data"
   ]
  },
  {
   "cell_type": "code",
   "execution_count": 2,
   "id": "3c524721",
   "metadata": {},
   "outputs": [],
   "source": [
    "from src.datareader import get_metadata, get_summary_data\n",
    "from src.find_images_without_metadata import find_images_without_metadata\n",
    "from src.labelenums import Label"
   ]
  },
  {
   "cell_type": "code",
   "execution_count": 3,
   "id": "5a4d7a60",
   "metadata": {},
   "outputs": [
    {
     "name": "stdout",
     "output_type": "stream",
     "text": [
      "      Label Label_2_Virus_category Label_1_Virus_category  Image_Count\n",
      "0    Normal                                                       1576\n",
      "1  Pnemonia         Stress-Smoking                   ARDS            2\n",
      "2  Pnemonia                  Virus                                1493\n",
      "3  Pnemonia                  Virus               COVID-19           58\n",
      "4  Pnemonia                  Virus                   SARS            4\n",
      "5  Pnemonia               bacteria                                2772\n",
      "6  Pnemonia               bacteria          Streptococcus            5\n"
     ]
    }
   ],
   "source": [
    "metadata: pd.DataFrame = get_metadata()\n",
    "summarydata: pd.DataFrame = get_summary_data()\n",
    "print(summarydata)"
   ]
  },
  {
   "cell_type": "code",
   "execution_count": 4,
   "id": "cc40dc48",
   "metadata": {},
   "outputs": [
    {
     "data": {
      "text/html": [
       "<div>\n",
       "<style scoped>\n",
       "    .dataframe tbody tr th:only-of-type {\n",
       "        vertical-align: middle;\n",
       "    }\n",
       "\n",
       "    .dataframe tbody tr th {\n",
       "        vertical-align: top;\n",
       "    }\n",
       "\n",
       "    .dataframe thead th {\n",
       "        text-align: right;\n",
       "    }\n",
       "</style>\n",
       "<table border=\"1\" class=\"dataframe\">\n",
       "  <thead>\n",
       "    <tr style=\"text-align: right;\">\n",
       "      <th></th>\n",
       "      <th>X_ray_image_name</th>\n",
       "      <th>Label</th>\n",
       "      <th>Dataset_type</th>\n",
       "      <th>Label_2_Virus_category</th>\n",
       "      <th>Label_1_Virus_category</th>\n",
       "    </tr>\n",
       "  </thead>\n",
       "  <tbody>\n",
       "    <tr>\n",
       "      <th>0</th>\n",
       "      <td>IM-0128-0001.jpeg</td>\n",
       "      <td>Normal</td>\n",
       "      <td>TRAIN</td>\n",
       "      <td></td>\n",
       "      <td></td>\n",
       "    </tr>\n",
       "    <tr>\n",
       "      <th>1</th>\n",
       "      <td>IM-0127-0001.jpeg</td>\n",
       "      <td>Normal</td>\n",
       "      <td>TRAIN</td>\n",
       "      <td></td>\n",
       "      <td></td>\n",
       "    </tr>\n",
       "    <tr>\n",
       "      <th>2</th>\n",
       "      <td>IM-0125-0001.jpeg</td>\n",
       "      <td>Normal</td>\n",
       "      <td>TRAIN</td>\n",
       "      <td></td>\n",
       "      <td></td>\n",
       "    </tr>\n",
       "    <tr>\n",
       "      <th>3</th>\n",
       "      <td>IM-0122-0001.jpeg</td>\n",
       "      <td>Normal</td>\n",
       "      <td>TRAIN</td>\n",
       "      <td></td>\n",
       "      <td></td>\n",
       "    </tr>\n",
       "    <tr>\n",
       "      <th>4</th>\n",
       "      <td>IM-0119-0001.jpeg</td>\n",
       "      <td>Normal</td>\n",
       "      <td>TRAIN</td>\n",
       "      <td></td>\n",
       "      <td></td>\n",
       "    </tr>\n",
       "  </tbody>\n",
       "</table>\n",
       "</div>"
      ],
      "text/plain": [
       "    X_ray_image_name   Label Dataset_type Label_2_Virus_category  \\\n",
       "0  IM-0128-0001.jpeg  Normal        TRAIN                          \n",
       "1  IM-0127-0001.jpeg  Normal        TRAIN                          \n",
       "2  IM-0125-0001.jpeg  Normal        TRAIN                          \n",
       "3  IM-0122-0001.jpeg  Normal        TRAIN                          \n",
       "4  IM-0119-0001.jpeg  Normal        TRAIN                          \n",
       "\n",
       "  Label_1_Virus_category  \n",
       "0                         \n",
       "1                         \n",
       "2                         \n",
       "3                         \n",
       "4                         "
      ]
     },
     "execution_count": 4,
     "metadata": {},
     "output_type": "execute_result"
    }
   ],
   "source": [
    "metadata.head()"
   ]
  },
  {
   "cell_type": "markdown",
   "id": "48b2c270",
   "metadata": {},
   "source": [
    "Let's verify that all the images are in the metadata, else we could run into issues if not careful. If you run into any problems, stop here and fix them."
   ]
  },
  {
   "cell_type": "code",
   "execution_count": 6,
   "id": "c470dc3d",
   "metadata": {},
   "outputs": [
    {
     "name": "stdout",
     "output_type": "stream",
     "text": [
      "There are 15 more files than listed in the metadata\n",
      "These files are missing in the metadata:\n",
      "1-s2.0-S0929664620300449-gr3_lrg-a.jpg\n",
      "1-s2.0-S0929664620300449-gr3_lrg-b.jpg\n",
      "1-s2.0-S0929664620300449-gr3_lrg-c.jpg\n",
      "1-s2.0-S0929664620300449-gr3_lrg-d.jpg\n",
      "191F3B3A-2879-4EF3-BE56-EE0D2B5AAEE3.jpeg\n",
      "21DDEBFD-7F16-4E3E-8F90-CB1B8EE82828.jpeg\n",
      "396A81A5-982C-44E9-A57E-9B1DC34E2C08.jpeg\n",
      "3ED3C0E1-4FE0-4238-8112-DDFF9E20B471.jpeg\n",
      "5083A6B7-8983-472E-A427-570A3E03DDEE.jpeg\n",
      "66298CBF-6F10-42D5-A688-741F6AC84A76.jpeg\n",
      "6A7D4110-2BFC-4D9A-A2D6-E9226D91D25A.jpeg\n",
      "925446AE-B3C7-4C93-941B-AC4D2FE1F455.jpeg\n",
      "kjr-21-e24-g001-l-b.jpg\n",
      "kjr-21-e24-g002-l-c.jpg\n",
      "kjr-21-e24-g003-l-b.jpg\n",
      "Removing file: D:\\Users\\Matthew\\Documents\\GitHub\\coronahack_chest_x-ray\\dataset\\TRAIN\\1-s2.0-S0929664620300449-gr3_lrg-a.jpg\n",
      "Removing file: D:\\Users\\Matthew\\Documents\\GitHub\\coronahack_chest_x-ray\\dataset\\TRAIN\\1-s2.0-S0929664620300449-gr3_lrg-b.jpg\n",
      "Removing file: D:\\Users\\Matthew\\Documents\\GitHub\\coronahack_chest_x-ray\\dataset\\TRAIN\\1-s2.0-S0929664620300449-gr3_lrg-c.jpg\n",
      "Removing file: D:\\Users\\Matthew\\Documents\\GitHub\\coronahack_chest_x-ray\\dataset\\TRAIN\\1-s2.0-S0929664620300449-gr3_lrg-d.jpg\n",
      "Removing file: D:\\Users\\Matthew\\Documents\\GitHub\\coronahack_chest_x-ray\\dataset\\TRAIN\\191F3B3A-2879-4EF3-BE56-EE0D2B5AAEE3.jpeg\n",
      "Removing file: D:\\Users\\Matthew\\Documents\\GitHub\\coronahack_chest_x-ray\\dataset\\TRAIN\\21DDEBFD-7F16-4E3E-8F90-CB1B8EE82828.jpeg\n",
      "Removing file: D:\\Users\\Matthew\\Documents\\GitHub\\coronahack_chest_x-ray\\dataset\\TRAIN\\396A81A5-982C-44E9-A57E-9B1DC34E2C08.jpeg\n",
      "Removing file: D:\\Users\\Matthew\\Documents\\GitHub\\coronahack_chest_x-ray\\dataset\\TRAIN\\3ED3C0E1-4FE0-4238-8112-DDFF9E20B471.jpeg\n",
      "Removing file: D:\\Users\\Matthew\\Documents\\GitHub\\coronahack_chest_x-ray\\dataset\\TRAIN\\5083A6B7-8983-472E-A427-570A3E03DDEE.jpeg\n",
      "Removing file: D:\\Users\\Matthew\\Documents\\GitHub\\coronahack_chest_x-ray\\dataset\\TRAIN\\66298CBF-6F10-42D5-A688-741F6AC84A76.jpeg\n",
      "Removing file: D:\\Users\\Matthew\\Documents\\GitHub\\coronahack_chest_x-ray\\dataset\\TRAIN\\6A7D4110-2BFC-4D9A-A2D6-E9226D91D25A.jpeg\n",
      "Removing file: D:\\Users\\Matthew\\Documents\\GitHub\\coronahack_chest_x-ray\\dataset\\TRAIN\\925446AE-B3C7-4C93-941B-AC4D2FE1F455.jpeg\n",
      "Removing file: D:\\Users\\Matthew\\Documents\\GitHub\\coronahack_chest_x-ray\\dataset\\TRAIN\\kjr-21-e24-g001-l-b.jpg\n",
      "Removing file: D:\\Users\\Matthew\\Documents\\GitHub\\coronahack_chest_x-ray\\dataset\\TRAIN\\kjr-21-e24-g002-l-c.jpg\n",
      "Removing file: D:\\Users\\Matthew\\Documents\\GitHub\\coronahack_chest_x-ray\\dataset\\TRAIN\\kjr-21-e24-g003-l-b.jpg\n",
      "Both lists match for the TRAIN dataset\n",
      "Both lists match for the TEST dataset\n"
     ]
    }
   ],
   "source": [
    "for dataset in ['TRAIN', 'TEST']:\n",
    "    extra_files = find_images_without_metadata(dataset)\n",
    "    if len(extra_files) == 0:\n",
    "        continue\n",
    "    for file_name in extra_files:\n",
    "        fullname = os.path.join(os.getcwd(), 'dataset', dataset, file_name)\n",
    "        if os.path.isfile(fullname):\n",
    "            print('Removing file: ' + fullname)\n",
    "            os.remove(fullname)\n",
    "    find_images_without_metadata(dataset)\n"
   ]
  },
  {
   "cell_type": "markdown",
   "id": "c9e83d5e",
   "metadata": {},
   "source": [
    "Separate between training and testing"
   ]
  },
  {
   "cell_type": "code",
   "execution_count": 7,
   "id": "60280901",
   "metadata": {},
   "outputs": [],
   "source": [
    "train_sample = metadata.loc[metadata['Dataset_type'] == 'TRAIN']\n",
    "test_sample = metadata.loc[metadata['Dataset_type'] == 'TEST']\n",
    "train_path = os.path.join(os.getcwd(), 'dataset', 'TRAIN')\n",
    "test_path = os.path.join(os.getcwd(), 'dataset', 'TEST')"
   ]
  },
  {
   "cell_type": "markdown",
   "id": "45f0adcd",
   "metadata": {},
   "source": [
    "Preview some images in the training data"
   ]
  },
  {
   "cell_type": "code",
   "execution_count": 8,
   "id": "6ac5e8a2",
   "metadata": {},
   "outputs": [
    {
     "data": {
      "image/png": "[encoded data removed]",
      "text/plain": [
       "<Figure size 432x288 with 9 Axes>"
      ]
     },
     "metadata": {
      "needs_background": "light"
     },
     "output_type": "display_data"
    }
   ],
   "source": [
    "fig, axes = plt.subplots(3, 3, squeeze=False, )\n",
    "random_image_indices = random.sample(range(len(train_sample)), 9)\n",
    "image_names = list(train_sample.iloc[random_image_indices]['X_ray_image_name'])\n",
    "for n in range(9):\n",
    "    this_axis = axes[n//3, n%3]\n",
    "    filename = os.path.join(train_path, image_names[n])\n",
    "    img = mpimg.imread(filename)\n",
    "    imgplot = this_axis.imshow(img, cmap='gray')\n",
    "    this_axis.axis('off')\n"
   ]
  },
  {
   "cell_type": "markdown",
   "id": "e85dc6ee",
   "metadata": {},
   "source": [
    "As you can see, the images are not uniform in shape, so we still have some preprocessing to do"
   ]
  },
  {
   "cell_type": "code",
   "execution_count": 9,
   "id": "8f2865da",
   "metadata": {},
   "outputs": [
    {
     "name": "stdout",
     "output_type": "stream",
     "text": [
      "Smallest image size:  (384, 127)\n",
      "Large image size:  (4248, 3480)\n"
     ]
    }
   ],
   "source": [
    "image_size_counter = {}\n",
    "for basename in train_sample['X_ray_image_name']:\n",
    "    filename = os.path.join(train_path, basename)\n",
    "    size = Image.open(filename).size\n",
    "    if size in image_size_counter.keys():\n",
    "        image_size_counter[(size, size[0] * size[1])] += 1\n",
    "    else:\n",
    "        image_size_counter[(size, size[0] * size[1])] = 1\n",
    "smallest_picture_index = np.argmin([x[1] for x in list(image_size_counter.keys())])\n",
    "largest_picture_index = np.argmax([x[1] for x in list(image_size_counter.keys())])\n",
    "print('Smallest image size: ', list(image_size_counter.keys())[smallest_picture_index][0])\n",
    "print('Large image size: ', list(image_size_counter.keys())[largest_picture_index][0])"
   ]
  },
  {
   "cell_type": "markdown",
   "id": "0631046f",
   "metadata": {},
   "source": [
    "Since the images differ widely in size, we must resort to resizing them and normalizing them."
   ]
  },
  {
   "cell_type": "code",
   "execution_count": 10,
   "id": "6b0b0589",
   "metadata": {},
   "outputs": [],
   "source": [
    "new_size = (256, 256)\n",
    "AUTOTUNE = tf.data.AUTOTUNE\n",
    "class_names = np.unique(np.array(train_sample['Label']))\n",
    "normalization_layer = tf.keras.layers.experimental.preprocessing.Rescaling(1./255)\n",
    "labeler = Label()\n",
    "\n",
    "\n",
    "def get_train_label(file_path):\n",
    "    # Convert the path to a list of path components\n",
    "    filename = os.path.basename(file_path)\n",
    "    copy = train_sample.copy()\n",
    "    names_ds = list(copy['X_ray_image_name'].copy())\n",
    "    labels_ds = list(copy['Label'].copy())\n",
    "    label_str = labels_ds[names_ds.index(filename)]\n",
    "    label_int = labeler[label_str]\n",
    "    return label_int\n",
    "\n",
    "\n",
    "def get_test_label(file_path):\n",
    "    # Convert the path to a list of path components\n",
    "    filename = os.path.basename(file_path)\n",
    "    copy = test_sample.copy()\n",
    "    names_ds = list(copy['X_ray_image_name'].copy())\n",
    "    labels_ds = list(copy['Label'].copy())\n",
    "    label_str = labels_ds[names_ds.index(filename)]\n",
    "    label_int = labeler[label_str]\n",
    "    return label_int\n",
    "\n",
    "\n",
    "def process_path(file_path, label):\n",
    "    img1 = tf.io.read_file(file_path)\n",
    "    img2 = tf.io.decode_png(img1, channels=1)\n",
    "    img3 = tf.image.resize(img2, new_size, method='lanczos3', antialias=True)\n",
    "    img4 = normalization_layer(img3)\n",
    "    return img4, label\n"
   ]
  },
  {
   "cell_type": "code",
   "execution_count": 11,
   "id": "03c5195b",
   "metadata": {},
   "outputs": [],
   "source": [
    "train_image_paths = [os.path.join(train_path, x) for x in os.listdir(train_path)]\n",
    "test_image_paths = [os.path.join(test_path, x) for x in os.listdir(test_path)]\n",
    "train_labels = np.array([get_train_label(x) for x in train_image_paths], dtype=int)\n",
    "test_labels = np.array([get_test_label(x) for x in test_image_paths], dtype=int)"
   ]
  },
  {
   "cell_type": "code",
   "execution_count": 12,
   "id": "d80daf7b",
   "metadata": {},
   "outputs": [
    {
     "name": "stdout",
     "output_type": "stream",
     "text": [
      "5286\n",
      "624\n"
     ]
    }
   ],
   "source": [
    "train_image_paths_tensors = tf.convert_to_tensor(train_image_paths, dtype=tf.string)\n",
    "train_labels_tensors = tf.convert_to_tensor(train_labels)\n",
    "train_dataset = tf.data.Dataset.from_tensor_slices((train_image_paths_tensors, train_labels_tensors))\n",
    "train_dataset = train_dataset.map(process_path, num_parallel_calls=AUTOTUNE)\n",
    "\n",
    "test_image_paths_tensors = tf.convert_to_tensor(test_image_paths, dtype=tf.string)\n",
    "test_labels_tensors = tf.convert_to_tensor(test_labels)\n",
    "test_dataset = tf.data.Dataset.from_tensor_slices((test_image_paths_tensors, test_labels_tensors))\n",
    "test_dataset = test_dataset.map(process_path, num_parallel_calls=AUTOTUNE)\n",
    "\n",
    "\n",
    "print(tf.data.experimental.cardinality(train_dataset).numpy())\n",
    "print(tf.data.experimental.cardinality(test_dataset).numpy())"
   ]
  },
  {
   "cell_type": "code",
   "execution_count": 13,
   "id": "1eb78d7d",
   "metadata": {},
   "outputs": [],
   "source": [
    "def configure_for_performance(ds):\n",
    "  ds = ds.cache()\n",
    "  ds = ds.shuffle(buffer_size=1000)\n",
    "  ds = ds.batch(batch_size)\n",
    "  ds = ds.prefetch(buffer_size=AUTOTUNE)\n",
    "  return ds\n",
    "\n",
    "train_dataset = configure_for_performance(train_dataset)\n",
    "test_dataset = configure_for_performance(test_dataset)"
   ]
  },
  {
   "cell_type": "code",
   "execution_count": 14,
   "id": "71cd96d5",
   "metadata": {},
   "outputs": [],
   "source": [
    "metrics = [\n",
    "#     tf.keras.metrics.TruePositives(name='tp'),\n",
    "#     tf.keras.metrics.FalsePositives(name='fp'),\n",
    "#     tf.keras.metrics.TrueNegatives(name='tn'),\n",
    "#     tf.keras.metrics.FalseNegatives(name='fn'), \n",
    "    tf.keras.metrics.MeanSquaredError(),\n",
    "    tf.keras.metrics.CategoricalAccuracy(),\n",
    "    tf.keras.metrics.BinaryCrossentropy(),\n",
    "#     tf.keras.metrics.Recall(name='recall'),\n",
    "#     tf.keras.metrics.AUC(name='auc', curve='ROC')\n",
    "]"
   ]
  },
  {
   "cell_type": "code",
   "execution_count": 19,
   "id": "21608c4e",
   "metadata": {},
   "outputs": [],
   "source": [
    "filters = 10\n",
    "kernel_size = (3, 3)\n",
    "activation = 'relu'\n",
    "num_classes = len(class_names)\n",
    "\n",
    "model = tf.keras.Sequential([\n",
    "    tf.keras.layers.Conv2D(filters, \n",
    "                           kernel_size=kernel_size, \n",
    "                           activation=activation,\n",
    "                           strides=1,\n",
    "                           padding='valid',\n",
    "                           input_shape=(new_size[0], new_size[1], 1)),\n",
    "    tf.keras.layers.Conv2D(filters,\n",
    "                           kernel_size=kernel_size,\n",
    "                           activation=activation),\n",
    "    tf.keras.layers.Conv2D(filters,\n",
    "                           kernel_size=kernel_size,\n",
    "                           activation=activation),\n",
    "#     tf.keras.layers.MaxPooling2D(),\n",
    "    tf.keras.layers.Flatten(),\n",
    "    tf.keras.layers.Dense(128, activation=activation),\n",
    "    tf.keras.layers.Dropout(0.1),\n",
    "    tf.keras.layers.Dense(num_classes)\n",
    "])"
   ]
  },
  {
   "cell_type": "code",
   "execution_count": 20,
   "id": "87cf6bdd",
   "metadata": {},
   "outputs": [],
   "source": [
    "model.compile(\n",
    "    optimizer='adam',\n",
    "    loss='binary_crossentropy',\n",
    "    metrics=metrics)"
   ]
  },
  {
   "cell_type": "code",
   "execution_count": 21,
   "id": "9d00a8ea",
   "metadata": {},
   "outputs": [],
   "source": [
    "checkpoint_path = \"training_has_pnemonia/cp.ckpt\"\n",
    "checkpoint_dir = os.path.dirname(checkpoint_path)\n",
    "\n",
    "# Create a callback that saves the model's weights\n",
    "cp_callback = tf.keras.callbacks.ModelCheckpoint(filepath=checkpoint_path,\n",
    "                                                 save_weights_only=True,\n",
    "                                                 verbose=1)\n",
    "\n",
    "early_stoping = tf.keras.callbacks.EarlyStopping(monitor='val_loss', \n",
    "                                                 patience=2, \n",
    "                                                 restore_best_weights=True)\n"
   ]
  },
  {
   "cell_type": "code",
   "execution_count": 22,
   "id": "d815a399",
   "metadata": {},
   "outputs": [
    {
     "name": "stdout",
     "output_type": "stream",
     "text": [
      "Epoch 1/10\n",
      "166/166 [==============================] - 78s 467ms/step - loss: 11.5045 - mean_squared_error: 25097.1523 - categorical_accuracy: 0.1479 - binary_crossentropy: 11.3077 - val_loss: 9.6406 - val_mean_squared_error: 30105.8789 - val_categorical_accuracy: 0.0000e+00 - val_binary_crossentropy: 9.6406\n",
      "\n",
      "Epoch 00001: saving model to training_has_pnemonia\\cp.ckpt\n",
      "Epoch 2/10\n",
      "166/166 [==============================] - 77s 463ms/step - loss: 11.5118 - mean_squared_error: 63660.3320 - categorical_accuracy: 0.8606 - binary_crossentropy: 11.5118 - val_loss: 9.6406 - val_mean_squared_error: 73750.6250 - val_categorical_accuracy: 1.0000 - val_binary_crossentropy: 9.6406\n",
      "\n",
      "Epoch 00002: saving model to training_has_pnemonia\\cp.ckpt\n",
      "Epoch 3/10\n",
      "166/166 [==============================] - 77s 461ms/step - loss: 11.5089 - mean_squared_error: 76275.1875 - categorical_accuracy: 1.0000 - binary_crossentropy: 11.5089 - val_loss: 9.6406 - val_mean_squared_error: 73750.6250 - val_categorical_accuracy: 1.0000 - val_binary_crossentropy: 9.6406\n",
      "\n",
      "Epoch 00003: saving model to training_has_pnemonia\\cp.ckpt\n"
     ]
    },
    {
     "data": {
      "text/plain": [
       "<tensorflow.python.keras.callbacks.History at 0x2e6c3673d90>"
      ]
     },
     "execution_count": 22,
     "metadata": {},
     "output_type": "execute_result"
    }
   ],
   "source": [
    "epochs = 10\n",
    "model.fit(\n",
    "    train_dataset,\n",
    "    validation_data=test_dataset,\n",
    "    epochs=epochs,\n",
    "    callbacks=[cp_callback, early_stoping]\n",
    ")"
   ]
  },
  {
   "cell_type": "code",
   "execution_count": 23,
   "id": "3d4ebb35",
   "metadata": {},
   "outputs": [
    {
     "name": "stdout",
     "output_type": "stream",
     "text": [
      "Model: \"sequential_1\"\n",
      "_________________________________________________________________\n",
      "Layer (type)                 Output Shape              Param #   \n",
      "=================================================================\n",
      "conv2d_1 (Conv2D)            (None, 254, 254, 10)      100       \n",
      "_________________________________________________________________\n",
      "conv2d_2 (Conv2D)            (None, 252, 252, 10)      910       \n",
      "_________________________________________________________________\n",
      "conv2d_3 (Conv2D)            (None, 250, 250, 10)      910       \n",
      "_________________________________________________________________\n",
      "flatten_1 (Flatten)          (None, 625000)            0         \n",
      "_________________________________________________________________\n",
      "dense_2 (Dense)              (None, 128)               80000128  \n",
      "_________________________________________________________________\n",
      "dropout_1 (Dropout)          (None, 128)               0         \n",
      "_________________________________________________________________\n",
      "dense_3 (Dense)              (None, 2)                 258       \n",
      "=================================================================\n",
      "Total params: 80,002,306\n",
      "Trainable params: 80,002,306\n",
      "Non-trainable params: 0\n",
      "_________________________________________________________________\n"
     ]
    }
   ],
   "source": [
    "model.summary()"
   ]
  },
  {
   "cell_type": "code",
   "execution_count": 24,
   "id": "b21edd11",
   "metadata": {},
   "outputs": [
    {
     "data": {
      "image/png": "[encoded data removed]",
      "text/plain": [
       "<IPython.core.display.Image object>"
      ]
     },
     "execution_count": 24,
     "metadata": {},
     "output_type": "execute_result"
    }
   ],
   "source": [
    "tf.keras.utils.plot_model(model, to_file='model_has_pnemonia.png')"
   ]
  },
  {
   "cell_type": "code",
   "execution_count": null,
   "id": "7e18526d",
   "metadata": {},
   "outputs": [],
   "source": []
  }
 ],
 "metadata": {
  "kernelspec": {
   "display_name": "Python 3 (ipykernel)",
   "language": "python",
   "name": "python3"
  },
  "language_info": {
   "codemirror_mode": {
    "name": "ipython",
    "version": 3
   },
   "file_extension": ".py",
   "mimetype": "text/x-python",
   "name": "python",
   "nbconvert_exporter": "python",
   "pygments_lexer": "ipython3",
   "version": "3.9.7"
  }
 },
 "nbformat": 4,
 "nbformat_minor": 5
}