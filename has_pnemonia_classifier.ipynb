{
 "cells": [
  {
   "cell_type": "markdown",
   "id": "43df1281",
   "metadata": {},
   "source": [
    "Load Tensorflow"
   ]
  },
  {
   "cell_type": "code",
   "execution_count": 1,
   "id": "aa5a0514",
   "metadata": {},
   "outputs": [
    {
     "name": "stdout",
     "output_type": "stream",
     "text": [
      "TensorFlow version: 2.4.3\n"
     ]
    }
   ],
   "source": [
    "%matplotlib inline\n",
    "from matplotlib import pyplot as plt\n",
    "import matplotlib.image as mpimg\n",
    "import pandas as pd\n",
    "import numpy as np\n",
    "import random\n",
    "import os\n",
    "from glob import glob\n",
    "from PIL import Image\n",
    "import pathlib\n",
    "\n",
    "import tensorflow as tf\n",
    "print(\"TensorFlow version:\", tf.__version__)\n",
    "\n",
    "from tensorflow.keras.layers import Dense, Flatten, Conv2D\n",
    "from tensorflow.keras import utils\n",
    "from tensorflow.keras import Model\n",
    "\n"
   ]
  },
  {
   "cell_type": "markdown",
   "id": "56687f6f",
   "metadata": {},
   "source": [
    "Load helper functions and preview the data"
   ]
  },
  {
   "cell_type": "code",
   "execution_count": 2,
   "id": "3c524721",
   "metadata": {},
   "outputs": [],
   "source": [
    "from src.datareader import get_metadata, get_summary_data\n",
    "from src.find_images_without_metadata import find_images_without_metadata\n",
    "from src.labelenums import Label"
   ]
  },
  {
   "cell_type": "code",
   "execution_count": 3,
   "id": "5a4d7a60",
   "metadata": {},
   "outputs": [
    {
     "name": "stdout",
     "output_type": "stream",
     "text": [
      "      Label Label_2_Virus_category Label_1_Virus_category  Image_Count\n",
      "0    Normal                                                       1576\n",
      "1  Pnemonia         Stress-Smoking                   ARDS            2\n",
      "2  Pnemonia                  Virus                                1493\n",
      "3  Pnemonia                  Virus               COVID-19           58\n",
      "4  Pnemonia                  Virus                   SARS            4\n",
      "5  Pnemonia               bacteria                                2772\n",
      "6  Pnemonia               bacteria          Streptococcus            5\n"
     ]
    }
   ],
   "source": [
    "metadata: pd.DataFrame = get_metadata()\n",
    "summarydata: pd.DataFrame = get_summary_data()\n",
    "print(summarydata)"
   ]
  },
  {
   "cell_type": "code",
   "execution_count": 4,
   "id": "cc40dc48",
   "metadata": {},
   "outputs": [
    {
     "data": {
      "text/html": [
       "<div>\n",
       "<style scoped>\n",
       "    .dataframe tbody tr th:only-of-type {\n",
       "        vertical-align: middle;\n",
       "    }\n",
       "\n",
       "    .dataframe tbody tr th {\n",
       "        vertical-align: top;\n",
       "    }\n",
       "\n",
       "    .dataframe thead th {\n",
       "        text-align: right;\n",
       "    }\n",
       "</style>\n",
       "<table border=\"1\" class=\"dataframe\">\n",
       "  <thead>\n",
       "    <tr style=\"text-align: right;\">\n",
       "      <th></th>\n",
       "      <th>X_ray_image_name</th>\n",
       "      <th>Label</th>\n",
       "      <th>Dataset_type</th>\n",
       "      <th>Label_2_Virus_category</th>\n",
       "      <th>Label_1_Virus_category</th>\n",
       "    </tr>\n",
       "  </thead>\n",
       "  <tbody>\n",
       "    <tr>\n",
       "      <th>0</th>\n",
       "      <td>IM-0128-0001.jpeg</td>\n",
       "      <td>Normal</td>\n",
       "      <td>TRAIN</td>\n",
       "      <td></td>\n",
       "      <td></td>\n",
       "    </tr>\n",
       "    <tr>\n",
       "      <th>1</th>\n",
       "      <td>IM-0127-0001.jpeg</td>\n",
       "      <td>Normal</td>\n",
       "      <td>TRAIN</td>\n",
       "      <td></td>\n",
       "      <td></td>\n",
       "    </tr>\n",
       "    <tr>\n",
       "      <th>2</th>\n",
       "      <td>IM-0125-0001.jpeg</td>\n",
       "      <td>Normal</td>\n",
       "      <td>TRAIN</td>\n",
       "      <td></td>\n",
       "      <td></td>\n",
       "    </tr>\n",
       "    <tr>\n",
       "      <th>3</th>\n",
       "      <td>IM-0122-0001.jpeg</td>\n",
       "      <td>Normal</td>\n",
       "      <td>TRAIN</td>\n",
       "      <td></td>\n",
       "      <td></td>\n",
       "    </tr>\n",
       "    <tr>\n",
       "      <th>4</th>\n",
       "      <td>IM-0119-0001.jpeg</td>\n",
       "      <td>Normal</td>\n",
       "      <td>TRAIN</td>\n",
       "      <td></td>\n",
       "      <td></td>\n",
       "    </tr>\n",
       "  </tbody>\n",
       "</table>\n",
       "</div>"
      ],
      "text/plain": [
       "    X_ray_image_name   Label Dataset_type Label_2_Virus_category  \\\n",
       "0  IM-0128-0001.jpeg  Normal        TRAIN                          \n",
       "1  IM-0127-0001.jpeg  Normal        TRAIN                          \n",
       "2  IM-0125-0001.jpeg  Normal        TRAIN                          \n",
       "3  IM-0122-0001.jpeg  Normal        TRAIN                          \n",
       "4  IM-0119-0001.jpeg  Normal        TRAIN                          \n",
       "\n",
       "  Label_1_Virus_category  \n",
       "0                         \n",
       "1                         \n",
       "2                         \n",
       "3                         \n",
       "4                         "
      ]
     },
     "execution_count": 4,
     "metadata": {},
     "output_type": "execute_result"
    }
   ],
   "source": [
    "metadata.head()"
   ]
  },
  {
   "cell_type": "markdown",
   "id": "48b2c270",
   "metadata": {},
   "source": [
    "Let's verify that all the images are in the metadata, else we could run into issues if not careful. If you run into any problems, stop here and fix them."
   ]
  },
  {
   "cell_type": "code",
   "execution_count": 5,
   "id": "c470dc3d",
   "metadata": {},
   "outputs": [
    {
     "name": "stdout",
     "output_type": "stream",
     "text": [
      "Both lists match for the TRAIN dataset\n",
      "Both lists match for the TEST dataset\n"
     ]
    }
   ],
   "source": [
    "for dataset in ['TRAIN', 'TEST']:\n",
    "    find_images_without_metadata(dataset)\n"
   ]
  },
  {
   "cell_type": "markdown",
   "id": "c9e83d5e",
   "metadata": {},
   "source": [
    "Separate between training and testing"
   ]
  },
  {
   "cell_type": "code",
   "execution_count": 6,
   "id": "60280901",
   "metadata": {},
   "outputs": [],
   "source": [
    "train_sample = metadata.loc[metadata['Dataset_type'] == 'TRAIN']\n",
    "test_sample = metadata.loc[metadata['Dataset_type'] == 'TEST']\n",
    "train_path = os.path.join(os.getcwd(), 'dataset', 'TRAIN')\n",
    "test_path = os.path.join(os.getcwd(), 'dataset', 'TEST')"
   ]
  },
  {
   "cell_type": "markdown",
   "id": "45f0adcd",
   "metadata": {},
   "source": [
    "Preview some images in the training data"
   ]
  },
  {
   "cell_type": "code",
   "execution_count": 7,
   "id": "6ac5e8a2",
   "metadata": {},
   "outputs": [
    {
     "data": {
      "image/png": "[encoded data removed]",
      "text/plain": [
       "<Figure size 432x288 with 9 Axes>"
      ]
     },
     "metadata": {
      "needs_background": "light"
     },
     "output_type": "display_data"
    }
   ],
   "source": [
    "fig, axes = plt.subplots(3, 3, squeeze=False, )\n",
    "random_image_indices = random.sample(range(len(train_sample)), 9)\n",
    "image_names = list(train_sample.iloc[random_image_indices]['X_ray_image_name'])\n",
    "for n in range(9):\n",
    "    this_axis = axes[n//3, n%3]\n",
    "    filename = os.path.join(train_path, image_names[n])\n",
    "    img = mpimg.imread(filename)\n",
    "    imgplot = this_axis.imshow(img, cmap='gray')\n",
    "    this_axis.axis('off')\n"
   ]
  },
  {
   "cell_type": "markdown",
   "id": "e85dc6ee",
   "metadata": {},
   "source": [
    "As you can see, the images are not uniform in shape, so we still have some preprocessing to do"
   ]
  },
  {
   "cell_type": "code",
   "execution_count": 8,
   "id": "8f2865da",
   "metadata": {},
   "outputs": [
    {
     "name": "stdout",
     "output_type": "stream",
     "text": [
      "Smallest image size:  (384, 127)\n",
      "Large image size:  (4248, 3480)\n"
     ]
    }
   ],
   "source": [
    "image_size_counter = {}\n",
    "for basename in train_sample['X_ray_image_name']:\n",
    "    filename = os.path.join(train_path, basename)\n",
    "    size = Image.open(filename).size\n",
    "    if size in image_size_counter.keys():\n",
    "        image_size_counter[(size, size[0] * size[1])] += 1\n",
    "    else:\n",
    "        image_size_counter[(size, size[0] * size[1])] = 1\n",
    "smallest_picture_index = np.argmin([x[1] for x in list(image_size_counter.keys())])\n",
    "largest_picture_index = np.argmax([x[1] for x in list(image_size_counter.keys())])\n",
    "print('Smallest image size: ', list(image_size_counter.keys())[smallest_picture_index][0])\n",
    "print('Large image size: ', list(image_size_counter.keys())[largest_picture_index][0])"
   ]
  },
  {
   "cell_type": "markdown",
   "id": "0631046f",
   "metadata": {},
   "source": [
    "Since the images differ widely in size, we must resort to resizing them.\n",
    "The method employed here is to downsample and low-pass filter"
   ]
  },
  {
   "cell_type": "code",
   "execution_count": 9,
   "id": "6b0b0589",
   "metadata": {},
   "outputs": [],
   "source": [
    "new_size = (256, 256)\n",
    "AUTOTUNE = tf.data.AUTOTUNE\n",
    "class_names = np.unique(np.array(train_sample['Label']))\n",
    "labeler = Label()\n",
    "\n",
    "\n",
    "def get_train_label(file_path):\n",
    "    # Convert the path to a list of path components\n",
    "    filename = os.path.basename(file_path)\n",
    "    copy = train_sample.copy()\n",
    "    names_ds = list(copy['X_ray_image_name'].copy())\n",
    "    labels_ds = list(copy['Label'].copy())\n",
    "    label_str = labels_ds[names_ds.index(filename)]\n",
    "    label_int = labeler[label_str]\n",
    "    return label_int\n",
    "\n",
    "\n",
    "def get_test_label(file_path):\n",
    "    # Convert the path to a list of path components\n",
    "    filename = os.path.basename(file_path)\n",
    "    copy = test_sample.copy()\n",
    "    names_ds = list(copy['X_ray_image_name'].copy())\n",
    "    labels_ds = list(copy['Label'].copy())\n",
    "    label_str = labels_ds[names_ds.index(filename)]\n",
    "    label_int = labeler[label_str]\n",
    "    return label_int\n",
    "\n",
    "\n",
    "def process_path(file_path, label):\n",
    "    img1 = tf.io.read_file(file_path)\n",
    "    img2 = tf.io.decode_png(img1)\n",
    "    img3 = tf.image.resize(img2, new_size, method='lanczos3', antialias=True)\n",
    "    return img3, label\n"
   ]
  },
  {
   "cell_type": "code",
   "execution_count": 10,
   "id": "ad3a81e0",
   "metadata": {},
   "outputs": [],
   "source": [
    "train_image_paths = [os.path.join(train_path, x) for x in os.listdir(train_path)]\n",
    "test_image_paths = [os.path.join(test_path, x) for x in os.listdir(test_path)]\n",
    "train_labels = np.array([get_train_label(x) for x in train_image_paths], dtype=int)\n",
    "test_labels = np.array([get_test_label(x) for x in test_image_paths], dtype=int)"
   ]
  },
  {
   "cell_type": "code",
   "execution_count": 12,
   "id": "d80daf7b",
   "metadata": {},
   "outputs": [
    {
     "name": "stdout",
     "output_type": "stream",
     "text": [
      "5286\n",
      "624\n"
     ]
    }
   ],
   "source": [
    "train_image_paths_tensors = tf.convert_to_tensor(train_image_paths, dtype=tf.string)\n",
    "train_labels_tensors = tf.convert_to_tensor(train_labels)\n",
    "train_dataset = tf.data.Dataset.from_tensor_slices((train_image_paths_tensors, train_labels_tensors))\n",
    "train_dataset = train_dataset.map(process_path)\n",
    "\n",
    "test_image_paths_tensors = tf.convert_to_tensor(test_image_paths, dtype=tf.string)\n",
    "test_labels_tensors = tf.convert_to_tensor(test_labels)\n",
    "test_dataset = tf.data.Dataset.from_tensor_slices((test_image_paths_tensors, test_labels_tensors))\n",
    "test_dataset = test_dataset.map(process_path)\n",
    "\n",
    "\n",
    "print(tf.data.experimental.cardinality(train_dataset).numpy())\n",
    "print(tf.data.experimental.cardinality(test_dataset).numpy())"
   ]
  },
  {
   "cell_type": "code",
   "execution_count": null,
   "id": "08222c6e",
   "metadata": {},
   "outputs": [],
   "source": []
  }
 ],
 "metadata": {
  "kernelspec": {
   "display_name": "Python 3 (ipykernel)",
   "language": "python",
   "name": "python3"
  },
  "language_info": {
   "codemirror_mode": {
    "name": "ipython",
    "version": 3
   },
   "file_extension": ".py",
   "mimetype": "text/x-python",
   "name": "python",
   "nbconvert_exporter": "python",
   "pygments_lexer": "ipython3",
   "version": "3.7.11"
  }
 },
 "nbformat": 4,
 "nbformat_minor": 5
}
