{
 "cells": [
  {
   "cell_type": "markdown",
   "id": "43df1281",
   "metadata": {},
   "source": [
    "This notebook is a follw-up of the has_pnemonia_classifier.ipynb which is designed to classify if a person has pnemonia. In this notebook, we try to classify the type of illness "
   ]
  },
  {
   "cell_type": "markdown",
   "id": "78bff149",
   "metadata": {},
   "source": [
    "Load Tensorflow"
   ]
  },
  {
   "cell_type": "code",
   "execution_count": 1,
   "id": "5afc6a4c",
   "metadata": {},
   "outputs": [
    {
     "name": "stdout",
     "output_type": "stream",
     "text": [
      "TensorFlow version: 2.6.0\n"
     ]
    }
   ],
   "source": [
    "%matplotlib inline\n",
    "from matplotlib import pyplot as plt\n",
    "import matplotlib.image as mpimg\n",
    "import pandas as pd\n",
    "import numpy as np\n",
    "import random\n",
    "import os\n",
    "from glob import glob\n",
    "from PIL import Image\n",
    "import pathlib\n",
    "\n",
    "import tensorflow as tf\n",
    "print(\"TensorFlow version:\", tf.__version__)\n",
    "\n",
    "from tensorflow.keras.layers import Dense, Flatten, Conv2D\n",
    "from tensorflow.keras import utils\n",
    "from tensorflow.keras import Model\n",
    "\n",
    "batch_size = 32"
   ]
  },
  {
   "cell_type": "markdown",
   "id": "56687f6f",
   "metadata": {},
   "source": [
    "Load helper functions and get the data"
   ]
  },
  {
   "cell_type": "code",
   "execution_count": 2,
   "id": "3c524721",
   "metadata": {},
   "outputs": [],
   "source": [
    "from src.datareader import get_metadata\n",
    "from src.find_images_without_metadata import find_images_without_metadata\n",
    "from src.labelenums import Label2\n",
    "\n",
    "metadata: pd.DataFrame = get_metadata()\n",
    "metadata = metadata.loc[metadata['Label'] == 'Pnemonia']\n",
    "metadata['Label_2_Virus_category'] = metadata['Label_2_Virus_category'].replace(to_replace='', value='Unknown')"
   ]
  },
  {
   "cell_type": "markdown",
   "id": "c9e83d5e",
   "metadata": {},
   "source": [
    "Separate between training and testing"
   ]
  },
  {
   "cell_type": "code",
   "execution_count": 3,
   "id": "60280901",
   "metadata": {},
   "outputs": [],
   "source": [
    "train_sample = metadata.loc[metadata['Dataset_type'] == 'TRAIN']\n",
    "test_sample = metadata.loc[metadata['Dataset_type'] == 'TEST']\n",
    "train_path = os.path.join(os.getcwd(), 'dataset', 'TRAIN')\n",
    "test_path = os.path.join(os.getcwd(), 'dataset', 'TEST')"
   ]
  },
  {
   "cell_type": "code",
   "execution_count": 4,
   "id": "9c8fe0fb",
   "metadata": {},
   "outputs": [
    {
     "name": "stdout",
     "output_type": "stream",
     "text": [
      "Number of classes = 5\n"
     ]
    }
   ],
   "source": [
    "num_classes_covid = len(np.unique(list(train_sample['Label_2_Virus_category'])))\n",
    "print('Number of classes = %d' % num_classes_covid)"
   ]
  },
  {
   "cell_type": "markdown",
   "id": "0631046f",
   "metadata": {},
   "source": [
    "Get the images and labels. "
   ]
  },
  {
   "cell_type": "code",
   "execution_count": 5,
   "id": "6b0b0589",
   "metadata": {},
   "outputs": [],
   "source": [
    "new_size = (256, 256)\n",
    "AUTOTUNE = tf.data.AUTOTUNE\n",
    "normalization_layer = tf.keras.layers.experimental.preprocessing.Rescaling(1./255)\n",
    "diagnosis_labeler = Label2()\n",
    "\n",
    "\n",
    "def get_train_label(file_path):\n",
    "    # Convert the path to a list of path components\n",
    "    filename = os.path.basename(file_path)\n",
    "    copy = train_sample.copy()\n",
    "    names_ds = list(copy['X_ray_image_name'].copy())\n",
    "    labels_ds = list(copy['Label_2_Virus_category'].copy())\n",
    "    label_str = labels_ds[names_ds.index(filename)]\n",
    "    label_int = diagnosis_labeler[label_str]\n",
    "    return label_int\n",
    "\n",
    "\n",
    "def get_test_label(file_path):\n",
    "    # Convert the path to a list of path components\n",
    "    filename = os.path.basename(file_path)\n",
    "    copy = test_sample.copy()\n",
    "    names_ds = list(copy['X_ray_image_name'].copy())\n",
    "    labels_ds = list(copy['Label_2_Virus_category'].copy())\n",
    "    label_str = labels_ds[names_ds.index(filename)]\n",
    "    label_int = diagnosis_labeler[label_str]\n",
    "    return label_int\n",
    "\n",
    "\n",
    "def process_path(file_path, label):\n",
    "    img1 = tf.io.read_file(file_path)\n",
    "    img2 = tf.io.decode_png(img1, channels=1)\n",
    "    img3 = tf.image.resize(img2, new_size, method='lanczos3', antialias=True)\n",
    "    img4 = normalization_layer(img3)\n",
    "    return img4, label\n"
   ]
  },
  {
   "cell_type": "code",
   "execution_count": 6,
   "id": "03c5195b",
   "metadata": {},
   "outputs": [],
   "source": [
    "train_image_paths = [os.path.join(train_path, x) for x in list(train_sample['X_ray_image_name'])]\n",
    "test_image_paths = [os.path.join(test_path, x) for x in list(test_sample['X_ray_image_name'])]\n",
    "train_labels = np.array([get_train_label(x) for x in train_image_paths], dtype=int)\n",
    "test_labels = np.array([get_test_label(x) for x in test_image_paths], dtype=int)"
   ]
  },
  {
   "cell_type": "code",
   "execution_count": 7,
   "id": "d80daf7b",
   "metadata": {},
   "outputs": [
    {
     "name": "stdout",
     "output_type": "stream",
     "text": [
      "3944\n",
      "390\n"
     ]
    }
   ],
   "source": [
    "train_image_paths_tensors = tf.convert_to_tensor(train_image_paths, dtype=tf.string)\n",
    "train_labels_tensors = tf.convert_to_tensor(train_labels)\n",
    "train_dataset = tf.data.Dataset.from_tensor_slices((train_image_paths_tensors, train_labels_tensors))\n",
    "train_dataset = train_dataset.map(process_path, num_parallel_calls=AUTOTUNE)\n",
    "\n",
    "test_image_paths_tensors = tf.convert_to_tensor(test_image_paths, dtype=tf.string)\n",
    "test_labels_tensors = tf.convert_to_tensor(test_labels)\n",
    "test_dataset = tf.data.Dataset.from_tensor_slices((test_image_paths_tensors, test_labels_tensors))\n",
    "test_dataset = test_dataset.map(process_path, num_parallel_calls=AUTOTUNE)\n",
    "\n",
    "\n",
    "print(tf.data.experimental.cardinality(train_dataset).numpy())\n",
    "print(tf.data.experimental.cardinality(test_dataset).numpy())"
   ]
  },
  {
   "cell_type": "code",
   "execution_count": 8,
   "id": "1eb78d7d",
   "metadata": {},
   "outputs": [],
   "source": [
    "def configure_for_performance(ds):\n",
    "  ds = ds.cache()\n",
    "  ds = ds.shuffle(buffer_size=1000)\n",
    "  ds = ds.batch(batch_size)\n",
    "  ds = ds.prefetch(buffer_size=AUTOTUNE)\n",
    "  return ds\n",
    "\n",
    "train_dataset = configure_for_performance(train_dataset)\n",
    "test_dataset = configure_for_performance(test_dataset)"
   ]
  },
  {
   "cell_type": "code",
   "execution_count": 20,
   "id": "71cd96d5",
   "metadata": {},
   "outputs": [],
   "source": [
    "metrics = [\n",
    "    tf.keras.metrics.RootMeanSquaredError(),\n",
    "    tf.keras.metrics.MeanAbsoluteError()\n",
    "]"
   ]
  },
  {
   "cell_type": "code",
   "execution_count": 21,
   "id": "21608c4e",
   "metadata": {},
   "outputs": [],
   "source": [
    "filters = 10\n",
    "kernel_size = (3, 3)\n",
    "activation = 'relu'\n",
    "\n",
    "has_covid_classifier = tf.keras.Sequential([\n",
    "    tf.keras.layers.Conv2D(filters, \n",
    "                           kernel_size=kernel_size, \n",
    "                           activation=activation,\n",
    "                           strides=1,\n",
    "                           padding='valid',\n",
    "                           input_shape=(new_size[0], new_size[1], 1)),\n",
    "    tf.keras.layers.Conv2D(filters,\n",
    "                           kernel_size=kernel_size,\n",
    "                           activation=activation),\n",
    "    tf.keras.layers.Conv2D(filters,\n",
    "                           kernel_size=kernel_size,\n",
    "                           activation=activation),\n",
    "    tf.keras.layers.Flatten(),\n",
    "    tf.keras.layers.Dense(128, activation=activation),\n",
    "    tf.keras.layers.Dropout(0.1),\n",
    "    tf.keras.layers.Dense(1)\n",
    "])"
   ]
  },
  {
   "cell_type": "code",
   "execution_count": 22,
   "id": "87cf6bdd",
   "metadata": {},
   "outputs": [],
   "source": [
    "has_covid_classifier.compile(\n",
    "    optimizer='adam',\n",
    "    loss='MeanSquaredError',\n",
    "    metrics=metrics\n",
    ")"
   ]
  },
  {
   "cell_type": "code",
   "execution_count": 23,
   "id": "9d00a8ea",
   "metadata": {},
   "outputs": [],
   "source": [
    "checkpoint_path = \"training_has_covid/cp.ckpt\"\n",
    "checkpoint_dir = os.path.dirname(checkpoint_path)\n",
    "\n",
    "# Create a callback that saves the model's weights\n",
    "cp_callback = tf.keras.callbacks.ModelCheckpoint(filepath=checkpoint_path,\n",
    "                                                 save_weights_only=True,\n",
    "                                                 verbose=1)\n",
    "\n",
    "early_stoping = tf.keras.callbacks.EarlyStopping(monitor='val_loss', \n",
    "                                                 patience=2, \n",
    "                                                 restore_best_weights=True)\n"
   ]
  },
  {
   "cell_type": "code",
   "execution_count": 24,
   "id": "d815a399",
   "metadata": {},
   "outputs": [
    {
     "name": "stdout",
     "output_type": "stream",
     "text": [
      "Epoch 1/10\n",
      "124/124 [==============================] - 64s 501ms/step - loss: 55985.2344 - root_mean_squared_error: 236.6120 - mean_absolute_error: 160.7828 - val_loss: 14585.5449 - val_root_mean_squared_error: 120.7706 - val_mean_absolute_error: 101.6555\n",
      "\n",
      "Epoch 00001: saving model to training_has_covid\\cp.ckpt\n",
      "Epoch 2/10\n",
      "124/124 [==============================] - 57s 462ms/step - loss: 15896.9590 - root_mean_squared_error: 126.0831 - mean_absolute_error: 75.4449 - val_loss: 12602.2920 - val_root_mean_squared_error: 112.2599 - val_mean_absolute_error: 98.0671\n",
      "\n",
      "Epoch 00002: saving model to training_has_covid\\cp.ckpt\n",
      "Epoch 3/10\n",
      "124/124 [==============================] - 57s 458ms/step - loss: 14722.8779 - root_mean_squared_error: 121.3379 - mean_absolute_error: 76.5276 - val_loss: 12131.8486 - val_root_mean_squared_error: 110.1447 - val_mean_absolute_error: 95.2300\n",
      "\n",
      "Epoch 00003: saving model to training_has_covid\\cp.ckpt\n",
      "Epoch 4/10\n",
      "124/124 [==============================] - 57s 458ms/step - loss: 12640.2344 - root_mean_squared_error: 112.4288 - mean_absolute_error: 69.9515 - val_loss: 8528.3682 - val_root_mean_squared_error: 92.3492 - val_mean_absolute_error: 72.5454\n",
      "\n",
      "Epoch 00004: saving model to training_has_covid\\cp.ckpt\n",
      "Epoch 5/10\n",
      "124/124 [==============================] - 57s 461ms/step - loss: 13485.3271 - root_mean_squared_error: 116.1263 - mean_absolute_error: 74.3458 - val_loss: 10144.3867 - val_root_mean_squared_error: 100.7193 - val_mean_absolute_error: 76.4980\n",
      "\n",
      "Epoch 00005: saving model to training_has_covid\\cp.ckpt\n",
      "Epoch 6/10\n",
      "124/124 [==============================] - 61s 490ms/step - loss: 12183.3623 - root_mean_squared_error: 110.3783 - mean_absolute_error: 70.5824 - val_loss: 9100.4482 - val_root_mean_squared_error: 95.3963 - val_mean_absolute_error: 74.9814\n",
      "\n",
      "Epoch 00006: saving model to training_has_covid\\cp.ckpt\n"
     ]
    },
    {
     "data": {
      "text/plain": [
       "<tensorflow.python.keras.callbacks.History at 0x2a530724c70>"
      ]
     },
     "execution_count": 24,
     "metadata": {},
     "output_type": "execute_result"
    }
   ],
   "source": [
    "epochs = 10\n",
    "has_covid_classifier.fit(\n",
    "    train_dataset,\n",
    "    validation_data=test_dataset,\n",
    "    epochs=epochs,\n",
    "    callbacks=[cp_callback, early_stoping]\n",
    ")"
   ]
  },
  {
   "cell_type": "code",
   "execution_count": null,
   "id": "aa52e821",
   "metadata": {},
   "outputs": [],
   "source": [
    "has_covid_classifier.evaluate"
   ]
  }
 ],
 "metadata": {
  "kernelspec": {
   "display_name": "Python 3 (ipykernel)",
   "language": "python",
   "name": "python3"
  },
  "language_info": {
   "codemirror_mode": {
    "name": "ipython",
    "version": 3
   },
   "file_extension": ".py",
   "mimetype": "text/x-python",
   "name": "python",
   "nbconvert_exporter": "python",
   "pygments_lexer": "ipython3",
   "version": "3.9.7"
  }
 },
 "nbformat": 4,
 "nbformat_minor": 5
}
